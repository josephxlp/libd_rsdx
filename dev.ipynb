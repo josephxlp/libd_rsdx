{
 "cells": [
  {
   "cell_type": "code",
   "execution_count": 1,
   "metadata": {},
   "outputs": [],
   "source": [
    "from glob import glob\n",
    "import os "
   ]
  },
  {
   "cell_type": "code",
   "execution_count": 6,
   "metadata": {},
   "outputs": [],
   "source": [
    "\n",
    "\n",
    "pattern = \"/home/ljp238/Downloads/GEDI_L3_BULK/tiles/*/*GWR*.tif\"\n",
    "pattern_xml = \"/home/ljp238/Downloads/GEDI_L3_BULK/tiles/*/*.xml\""
   ]
  },
  {
   "cell_type": "code",
   "execution_count": 7,
   "metadata": {},
   "outputs": [],
   "source": [
    "def clean_files(pattern):\n",
    "    files = glob(pattern)\n",
    "    for f in files:\n",
    "        os.remove(f)\n",
    "    print(f\"Removed {len(files)} files\")"
   ]
  },
  {
   "cell_type": "code",
   "execution_count": 1,
   "metadata": {},
   "outputs": [],
   "source": [
    "#clean_files(pattern_xml)"
   ]
  },
  {
   "cell_type": "code",
   "execution_count": 3,
   "metadata": {},
   "outputs": [],
   "source": [
    "files = glob(pattern)"
   ]
  },
  {
   "cell_type": "code",
   "execution_count": 5,
   "metadata": {},
   "outputs": [],
   "source": [
    "for i in files:os.remove(i)"
   ]
  },
  {
   "cell_type": "code",
   "execution_count": 1,
   "metadata": {},
   "outputs": [],
   "source": [
    "# try \n",
    "\n",
    "# edem - gdsm \n",
    "# edem - (gdsm - gdem) \n",
    "# edem - (gdsm + gdem)"
   ]
  },
  {
   "cell_type": "code",
   "execution_count": 2,
   "metadata": {},
   "outputs": [],
   "source": [
    "# download the data edem more for all south america"
   ]
  },
  {
   "cell_type": "code",
   "execution_count": null,
   "metadata": {},
   "outputs": [],
   "source": [
    "\n",
    "# zdif = edem - gdtm \n",
    "# elev = edem - zsif \n",
    "# got two raster as edem and gdtm, workout elev and write to a file\n",
    "# function accepts 3 variables, edem, gdtm, output file name"
   ]
  },
  {
   "cell_type": "markdown",
   "metadata": {},
   "source": [
    "testing selecting for tdem 12~"
   ]
  },
  {
   "cell_type": "code",
   "execution_count": 21,
   "metadata": {},
   "outputs": [],
   "source": [
    "from glob import glob\n",
    "import os"
   ]
  },
  {
   "cell_type": "code",
   "execution_count": 22,
   "metadata": {},
   "outputs": [],
   "source": [
    "def select_hfile(tile_hfiles,X, name='tdem_DEM'):\n",
    "    bfile = [i for i in tile_hfiles if name in i]\n",
    "    if X == 12:\n",
    "        excluded_suffixes = ('F.tif', 'M_M.tif', 'Fw.tif', 'Mw.tif', '__RIO_0.tif','VFILL')\n",
    "    else:\n",
    "        excluded_suffixes = (f'F_{X}.tif', f'M_M_{X}.tif', f'Fw_{X}.tif', f'Mw_{X}.tif', f'__RIO_0_{X}.tif', f'{X}_VFILL.tif')\n",
    "   \n",
    "    filtered_bfile = [i for i in bfile if not i.endswith(excluded_suffixes)]\n",
    "    assert len(filtered_bfile) == 1, f\"More than one DEM file found in {os.path.dirname(tile_hfiles[0])}\"\n",
    "    return filtered_bfile[0]\n",
    "    \n",
    "    "
   ]
  },
  {
   "cell_type": "code",
   "execution_count": 24,
   "metadata": {},
   "outputs": [
    {
     "name": "stdout",
     "output_type": "stream",
     "text": [
      "/media/ljp238/12TBWolf/RSPROX/TILES12/S02W064/S02W064_tdem_DEM.tif\n",
      "/media/ljp238/12TBWolf/RSPROX/TILES30/S02W064/S02W064_tdem_DEM_30.tif\n",
      "/media/ljp238/12TBWolf/RSPROX/TILES90/S02W064/S02W064_tdem_DEM_90.tif\n"
     ]
    }
   ],
   "source": [
    "Xlsit = [12,30,90]\n",
    "for X in Xlsit:\n",
    "    path = f\"/media/ljp238/12TBWolf/RSPROX/TILES{X}/S02W064/\"\n",
    "    tile_hfiles = glob(path + \"*.tif\")\n",
    "    hfpath_tdem = select_hfile(tile_hfiles,X, name='tdem_DEM')\n",
    "    print(hfpath_tdem)\n",
    " "
   ]
  },
  {
   "cell_type": "code",
   "execution_count": 18,
   "metadata": {},
   "outputs": [],
   "source": [
    "\n",
    "Xlsit = [12,30,90]\n",
    "for X in Xlsit:\n",
    "    path = f\"/media/ljp238/12TBWolf/RSPROX/TILES{X}/S02W064/\"\n",
    "    tile_hfiles = glob(path + \"*.tif\")   \n",
    "    bfile = [i for i in tile_hfiles if 'tdem_DEM' in i]\n",
    "    if X == 12:\n",
    "        excluded_suffixes = ('F.tif', 'M_M.tif', 'Fw.tif', 'Mw.tif', '__RIO_0.tif','VFILL')\n",
    "    else:\n",
    "        excluded_suffixes = (f'F_{X}.tif', f'M_M_{X}.tif', f'Fw_{X}.tif', f'Mw_{X}.tif', f'__RIO_0_{X}.tif', f'{X}_VFILL.tif')\n",
    "   \n",
    "    filtered_bfile = [i for i in bfile if not i.endswith(excluded_suffixes)]\n",
    "    assert len(filtered_bfile) == 1, f\"More than one DEM file found in {path}\""
   ]
  },
  {
   "cell_type": "code",
   "execution_count": 17,
   "metadata": {},
   "outputs": [
    {
     "data": {
      "text/plain": [
       "['/media/ljp238/12TBWolf/RSPROX/TILES90/S02W064/S02W064_tdem_DEM_90.tif',\n",
       " '/media/ljp238/12TBWolf/RSPROX/TILES90/S02W064/S02W064_tdem_DEM__Fw_90.tif',\n",
       " '/media/ljp238/12TBWolf/RSPROX/TILES90/S02W064/S02W064_tdem_DEM__Fw_90_VFILL.tif',\n",
       " '/media/ljp238/12TBWolf/RSPROX/TILES90/S02W064/S02W064_tdem_DEM__RIO_0_90.tif']"
      ]
     },
     "execution_count": 17,
     "metadata": {},
     "output_type": "execute_result"
    }
   ],
   "source": [
    "tile_hfiles = glob(path + \"*.tif\")   \n",
    "bfile = [i for i in tile_hfiles if 'tdem_DEM' in i]\n",
    "bfile # from bfiles select those does not end with F.tif'M.tif Fw.tif Mw.tif __RIO_0.tif'"
   ]
  },
  {
   "cell_type": "code",
   "execution_count": 13,
   "metadata": {},
   "outputs": [
    {
     "name": "stdout",
     "output_type": "stream",
     "text": [
      "['/media/ljp238/12TBWolf/RSPROX/TILES12/S02W064/S02W064_tdem_DEM.tif',\n",
      " '/media/ljp238/12TBWolf/RSPROX/TILES12/S02W064/S02W064_tdem_DEM_F.tif',\n",
      " '/media/ljp238/12TBWolf/RSPROX/TILES12/S02W064/S02W064_tdem_DEM_M.tif',\n",
      " '/media/ljp238/12TBWolf/RSPROX/TILES12/S02W064/S02W064_tdem_DEM__Fw.tif',\n",
      " '/media/ljp238/12TBWolf/RSPROX/TILES12/S02W064/S02W064_tdem_DEM__Mw.tif',\n",
      " '/media/ljp238/12TBWolf/RSPROX/TILES12/S02W064/S02W064_tdem_DEM__RIO_0.tif']\n"
     ]
    },
    {
     "data": {
      "text/plain": [
       "['/media/ljp238/12TBWolf/RSPROX/TILES12/S02W064/S02W064_tdem_DEM.tif']"
      ]
     },
     "execution_count": 13,
     "metadata": {},
     "output_type": "execute_result"
    }
   ],
   "source": [
    "from glob import glob\n",
    "from pprint import pprint\n",
    "\n",
    "# Get all .tif files\n",
    "tile_hfiles = glob(path + \"*.tif\")\n",
    "\n",
    "# Select files containing 'tdem_DEM'\n",
    "bfile = [i for i in tile_hfiles if 'tdem_DEM' in i]\n",
    "pprint(bfile)\n",
    "\n",
    "# Exclude files ending with specified suffixes\n",
    "excluded_suffixes = ('F.tif', 'M_M.tif', 'Fw.tif', 'Mw.tif', '__RIO_0.tif')\n",
    "filtered_bfile = [i for i in bfile if not i.endswith(excluded_suffixes)]\n",
    "\n",
    "# Output the filtered list\n",
    "filtered_bfile\n"
   ]
  },
  {
   "cell_type": "markdown",
   "metadata": {},
   "source": []
  }
 ],
 "metadata": {
  "kernelspec": {
   "display_name": "demvfill",
   "language": "python",
   "name": "python3"
  },
  "language_info": {
   "codemirror_mode": {
    "name": "ipython",
    "version": 3
   },
   "file_extension": ".py",
   "mimetype": "text/x-python",
   "name": "python",
   "nbconvert_exporter": "python",
   "pygments_lexer": "ipython3",
   "version": "3.9.7"
  }
 },
 "nbformat": 4,
 "nbformat_minor": 2
}
