{
 "cells": [
  {
   "cell_type": "code",
   "execution_count": 1,
   "metadata": {},
   "outputs": [],
   "source": [
    "import os\n",
    "import cv2\n",
    "import time\n",
    "import pandas as pd\n",
    "from glob import glob\n",
    "from concurrent.futures import ProcessPoolExecutor\n",
    "#from vfill import write_raster, opencv,load_data_obj, split_data_and_mask,fill_rasterio"
   ]
  },
  {
   "cell_type": "code",
   "execution_count": 6,
   "metadata": {},
   "outputs": [],
   "source": [
    "name = 'GEDI_L3'\n",
    "fpath = \"/media/ljp238/12TBWolf/OPENTOPOGRAPHY/OT_GLOBAL_DEMS_TILES/*/GEDI_L3/*.tif\"\n",
    "files = glob(fpath)\n",
    "\n",
    "tile_dpath = \"/home/ljp238/Downloads/GEDI_L3_BULK/tiles/\""
   ]
  },
  {
   "cell_type": "code",
   "execution_count": 7,
   "metadata": {},
   "outputs": [],
   "source": [
    "dtm_global_fn = \"/home/ljp238/Downloads/GEDI_L3_BULK/data/GEDI_L3_be/GEDI03_elev_lowestmode_mean_2019108_2022019_002_03_EPSG4326.tif\"\n",
    "chm_global_fn = \"/home/ljp238/Downloads/GEDI_L3_BULK/data/GEDI_L3_vh/GEDI03_rh100_mean_2019108_2022019_002_03_EPSG4326.tif\""
   ]
  },
  {
   "cell_type": "code",
   "execution_count": 8,
   "metadata": {},
   "outputs": [],
   "source": [
    "from rutils import get_raster_info, gdal_regrid\n",
    "import numpy as np \n",
    "import math \n",
    "import rasterio "
   ]
  },
  {
   "cell_type": "code",
   "execution_count": 11,
   "metadata": {},
   "outputs": [],
   "source": [
    "import rasterio\n",
    "import numpy as np\n",
    "from rasterio.fill import fillnodata\n",
    "import math\n",
    "\n",
    "def load_raster(fpath):\n",
    "    \"\"\"\n",
    "    Loads a raster dataset and reads the first band as a masked array.\n",
    "\n",
    "    Parameters:\n",
    "    fpath (str): Path to the raster file.\n",
    "\n",
    "    Returns:\n",
    "    numpy.ndarray: A NumPy array with nodata values set to np.nan.\n",
    "    \"\"\"\n",
    "    with rasterio.open(fpath) as src:\n",
    "        data = src.read(1, masked=True)\n",
    "        data = data.filled(np.nan)  # Ensure nodata values are np.nan\n",
    "    return data\n",
    "\n",
    "def write_raster(output_path, data, reference_path):\n",
    "    \"\"\"\n",
    "    Writes a NumPy array to a raster file, preserving metadata from a reference raster.\n",
    "\n",
    "    Parameters:\n",
    "    output_path (str): Path to save the output raster.\n",
    "    data (numpy.ndarray): Data to write to the raster.\n",
    "    reference_path (str): Path to the reference raster for metadata.\n",
    "    \"\"\"\n",
    "    with rasterio.open(reference_path) as src:\n",
    "        meta = src.meta.copy()\n",
    "\n",
    "    # Update metadata\n",
    "    meta.update(dtype=np.float32, nodata=np.nan)\n",
    "\n",
    "    with rasterio.open(output_path, 'w', **meta) as dst:\n",
    "        dst.write(data, 1)\n",
    "\n",
    "def fill_nodata(data, smoothing_iterations=0):\n",
    "    \"\"\"\n",
    "    Fills nodata values in a raster using interpolation.\n",
    "\n",
    "    Parameters:\n",
    "    data (numpy.ndarray): Input raster data with nodata values.\n",
    "    smoothing_iterations (int): Number of smoothing iterations. Defaults to 0.\n",
    "\n",
    "    Returns:\n",
    "    numpy.ndarray: Raster data with nodata values filled.\n",
    "    \"\"\"\n",
    "    mask = np.isfinite(data)  # Valid data mask\n",
    "    max_search_distance = int(math.sqrt(data.shape[0] ** 2 + data.shape[1] ** 2)) + 1\n",
    "\n",
    "    return fillnodata(data, mask=mask, max_search_distance=max_search_distance, smoothing_iterations=smoothing_iterations)\n",
    "\n",
    "def rio_fillna(input_path, output_path, smoothing_iterations=0):\n",
    "    \"\"\"\n",
    "    Loads a raster, fills nodata values, and saves the result.\n",
    "\n",
    "    Parameters:\n",
    "    input_path (str): Path to the input raster.\n",
    "    output_path (str): Path to save the output raster.\n",
    "    smoothing_iterations (int): Number of smoothing iterations for nodata filling. Defaults to 0.\n",
    "    \"\"\"\n",
    "    output_path = output_path.replace('.tif', f'_si{smoothing_iterations}.tif')\n",
    "    \n",
    "    # Load data\n",
    "    data = load_raster(input_path)\n",
    "\n",
    "    # Fill nodata\n",
    "    filled_data = fill_nodata(data, smoothing_iterations)\n",
    "\n",
    "    # Write output raster\n",
    "    write_raster(output_path, filled_data, input_path)\n",
    "\n",
    "# Example Usage:\n",
    "# rio_fillna(\"input.tif\", \"output_filled.tif\", smoothing_iterations=2)\n"
   ]
  },
  {
   "cell_type": "code",
   "execution_count": null,
   "metadata": {},
   "outputs": [],
   "source": []
  },
  {
   "cell_type": "code",
   "execution_count": 14,
   "metadata": {},
   "outputs": [],
   "source": [
    "for fi in files:\n",
    "    tilename = fi.split('/')[-3]\n",
    "    dout_path = os.path.join(tile_dpath,tilename)\n",
    "    os.makedirs(dout_path, exist_ok=True)\n",
    "    chm_tile = os.path.join(dout_path, f'{tilename}_{os.path.basename(chm_global_fn)}')\n",
    "    dtm_tile = os.path.join(dout_path, f'{tilename}_{os.path.basename(dtm_global_fn)}')\n",
    "    proj, xres, yres, xmin, xmax, ymin, ymax, w, h = get_raster_info(fi)\n",
    "    #gdal_regrid(fi, chm_tile, xmin, ymin, xmax, ymax, xres, yres,mode=\"num\", t_epsg='EPSG:4979', overwrite=False)\n",
    "    #gdal_regrid(fi, dtm_tile, xmin, ymin, xmax, ymax, xres, yres,mode=\"num\", t_epsg='EPSG:4979', overwrite=False)\n",
    "\n",
    "    dtm_tile_fil = dtm_tile.replace('.tif', '_riofill.tif')\n",
    "    chm_tile_fil = chm_tile.replace('.tif', '_riofill.tif')\n",
    "    try:\n",
    "        os.remove(dtm_tile_fil)\n",
    "        os.remove(chm_tile_fil)\n",
    "    except:\n",
    "        continue\n",
    "    rio_fillna(input_path=chm_tile, output_path=chm_tile_fil, smoothing_iterations=0)\n",
    "    rio_fillna(input_path=dtm_tile, output_path=dtm_tile_fil, smoothing_iterations=0)\n",
    "\n",
    "# functions from libb::to regrid this dataset by basefiles \n",
    "# riofill them and other unspervised filling  "
   ]
  },
  {
   "cell_type": "code",
   "execution_count": null,
   "metadata": {},
   "outputs": [],
   "source": []
  },
  {
   "cell_type": "code",
   "execution_count": null,
   "metadata": {},
   "outputs": [],
   "source": []
  }
 ],
 "metadata": {
  "kernelspec": {
   "display_name": "demvfill",
   "language": "python",
   "name": "python3"
  },
  "language_info": {
   "codemirror_mode": {
    "name": "ipython",
    "version": 3
   },
   "file_extension": ".py",
   "mimetype": "text/x-python",
   "name": "python",
   "nbconvert_exporter": "python",
   "pygments_lexer": "ipython3",
   "version": "3.9.7"
  }
 },
 "nbformat": 4,
 "nbformat_minor": 2
}
